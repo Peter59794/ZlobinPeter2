{
 "cells": [
  {
   "cell_type": "markdown",
   "metadata": {},
   "source": [
    "Задача 1"
   ]
  },
  {
   "cell_type": "code",
   "execution_count": 24,
   "metadata": {},
   "outputs": [
    {
     "name": "stdout",
     "output_type": "stream",
     "text": [
      "Программа выдаст центральную букву для введёного вами слова\n",
      "Введите слово пролд\n",
      "Центральная буква для данного слова: о\n"
     ]
    }
   ],
   "source": [
    "            print ('Программа выдаст центральную букву для введёного вами слова')\n",
    "x = input('Введите слово ') #Введём слово\n",
    "count = len (x) #Посчитаем количество символов\n",
    "if count % 2 == 0: #выясним центральные буквы для чётного числа символов слова\n",
    "    w = count // 2 #выясним центральные буквы\n",
    "    print('Центральные буквы для данного слова:',x [(w-1):(w+1)]) #выясним центральные буквы\n",
    "else:\n",
    "    e = count - 1 #приведём нечётное значение к чётному\n",
    "    w = e // 2 #найдём центральное значение\n",
    "    print('Центральная буква для данного слова:', x [w]) #так как отчёт по переменной 'w', начинается со следующего символа, ничего возвращать не нужно"
   ]
  },
  {
   "cell_type": "markdown",
   "metadata": {},
   "source": [
    "Задача 2"
   ]
  },
  {
   "cell_type": "code",
   "execution_count": null,
   "metadata": {},
   "outputs": [],
   "source": [
    "boys = ['Peter','Alex','John','Arthur','Richard']\n",
    "girls = ['Kate','Liza','Kira','Emma','Trisha']\n",
    " \n",
    "if len (boys) == len (girls):\n",
    "    sortboy = sorted(boys)# отсортировали\n",
    "    sortgirl = sorted(girls)\n",
    "    Matches = zip (sortboy, sortgirl)\n",
    "    for list in Matches:  \n",
    "        print(list)\n",
    "else:\n",
    "    print ('Кто-то может остаться без пары, нужен добор')"
   ]
  },
  {
   "cell_type": "markdown",
   "metadata": {},
   "source": [
    "Задача 3"
   ]
  },
  {
   "cell_type": "code",
   "execution_count": 4,
   "metadata": {},
   "outputs": [
    {
     "name": "stdout",
     "output_type": "stream",
     "text": [
      "В Thailand средняя температура за год: 74.94\n",
      "В Germany средняя температура за год: 56.69\n",
      "В Russia средняя температура за год: 38.69\n",
      "В Poland средняя температура за год: 53.34\n"
     ]
    }
   ],
   "source": [
    "countries_temperature = [\n",
    " ['Thailand', [75.2, 77, 78.8, 73.4, 68, 75.2, 77]],\n",
    " ['Germany', [57.2, 55.4, 59, 59, 53.6, 55.4, 57.2]],\n",
    " ['Russia', [35.6, 37.4, 39.2, 41, 42.8, 39.2, 35.6]],\n",
    " ['Poland', [50, 50, 53.6, 57.2, 55.4, 55.4, 51.8]],\n",
    "]\n",
    "\n",
    "for x in countries_temperature:  \n",
    "    print ('В', x [0], 'средняя температура за год:', round (sum (x[1]) / len (x[1]),2))\n",
    "#удивительно что переменная для любого цикла 1-го уровня (в питоне): температура и страна (в моём случае) - это один и тот жеьэлекмент при построении!"
   ]
  },
  {
   "cell_type": "markdown",
   "metadata": {},
   "source": []
  },
  {
   "cell_type": "markdown",
   "metadata": {},
   "source": [
    "Задача 4"
   ]
  },
  {
   "cell_type": "code",
   "execution_count": 61,
   "metadata": {},
   "outputs": [
    {
     "name": "stdout",
     "output_type": "stream",
     "text": [
      "Сумарное колличество пользователей: 4\n",
      "Сумарное колличество просмотров: 85\n",
      "Отношение суммы всех просмотров к количеству уникальных пользователей: 21.25\n"
     ]
    }
   ],
   "source": [
    "stream = [\n",
    "    '2018-01-01,user1,3', \n",
    "    '2018-01-07,user1,4',\n",
    "    '2018-03-29,user1,1',\n",
    "    '2018-04-04,user1,13',\n",
    "    '2018-01-05,user2,7',\n",
    "    '2018-06-14,user3,4',\n",
    "    '2018-07-02,user3,10',\n",
    "    '2018-03-21,user4,19',\n",
    "    '2018-03-22,user4,4',\n",
    "    '2018-04-22,user4,8',\n",
    "    '2018-05-03,user4,9',\n",
    "    '2018-05-11,user4,11',\n",
    "]\n",
    "\n",
    "userlist = []\n",
    "\n",
    "for string1 in stream:\n",
    "    separation1 = string1.split(',')\n",
    "    user_q = separation1[1]\n",
    "    if user_q not in userlist:\n",
    "        userlist.append(user_q)\n",
    "        \n",
    "sum_len_user = len (userlist)                                # Суммарное кол-во пользователей\n",
    "\n",
    "sumviews = []\n",
    "\n",
    "for string1 in stream:\n",
    "    separation1 = string1.split(',')\n",
    "    find_x = int(separation1[2])\n",
    "    if find_x not in sumviews:\n",
    "        sumviews.append(find_x)\n",
    "        \n",
    "sumlist = sum(find_xlist)                                   # Сумарное количество просмотров\n",
    "\n",
    "x = sumlist / sum_len_user\n",
    "\n",
    "print ('Сумарное колличество пользователей:', sum_len_user)\n",
    "print ('Сумарное колличество просмотров:', sumlist)\n",
    "print ('Отношение суммы всех просмотров к количеству уникальных пользователей:', x)"
   ]
  },
  {
   "cell_type": "markdown",
   "metadata": {},
   "source": [
    "Задача 5"
   ]
  },
  {
   "cell_type": "code",
   "execution_count": 3,
   "metadata": {},
   "outputs": [
    {
     "name": "stdout",
     "output_type": "stream",
     "text": [
      "Введите дату: 2018-01-06\n",
      "Введите компанию: market\n",
      "{994}\n"
     ]
    }
   ],
   "source": [
    "stats = [\n",
    "    ['2018-01-01', 'google', 25],\n",
    "    ['2018-01-01', 'yandex', 65],\n",
    "    ['2018-01-01', 'market', 89],\n",
    "    ['2018-01-02', 'google', 574],\n",
    "    ['2018-01-02', 'yandex', 249],\n",
    "    ['2018-01-02', 'market', 994],\n",
    "    ['2018-01-03', 'google', 1843],\n",
    "    ['2018-01-03', 'yandex', 1327],\n",
    "    ['2018-01-03', 'market', 1764],\n",
    "]\n",
    "\n",
    "u = input('Введите дату: ')\n",
    "j = input('Введите компанию: ')\n",
    "\n",
    "x = [] # Список для string1[0]\n",
    "y = [] # Список для string1[1]\n",
    "\n",
    "for string1 in stats:\n",
    "    for elm_x in string1:\n",
    "        if elm_x == u in string1[0]: #Сравнили, добавили\n",
    "            x.append(string1[2])\n",
    "        if elm_x == j in string1[1]:\n",
    "            y.append(string1[2])\n",
    "\n",
    "set_x = set(x) #Множество от дат\n",
    "set_y = set(y) #Множество от компаний\n",
    "\n",
    "What_we_finding = set_x.intersection(set_y)\n",
    "\n",
    "print(What_we_finding)"
   ]
  },
  {
   "cell_type": "markdown",
   "metadata": {},
   "source": [
    "Задача 6"
   ]
  },
  {
   "cell_type": "code",
   "execution_count": 2,
   "metadata": {},
   "outputs": [
    {
     "name": "stdout",
     "output_type": "stream",
     "text": [
      "Сумма элементов по дигонали: 103\n"
     ]
    }
   ],
   "source": [
    "data = [\n",
    "    [13, 25, 23, 34],\n",
    "    [45, 32, 44, 47],\n",
    "    [12, 33, 23, 95],\n",
    "    [13, 53, 34, 35]\n",
    "]\n",
    "\n",
    "listforcheck = []\n",
    "\n",
    "for i1, i2 in enumerate (data):\n",
    "    listforcheck.append (data [i1] [i1])\n",
    "x = sum (listforcheck)\n",
    "print ('Сумма элементов по дигонали:', x)"
   ]
  },
  {
   "cell_type": "code",
   "execution_count": null,
   "metadata": {},
   "outputs": [],
   "source": []
  },
  {
   "cell_type": "code",
   "execution_count": null,
   "metadata": {},
   "outputs": [],
   "source": []
  }
 ],
 "metadata": {
  "kernelspec": {
   "display_name": "Python 3",
   "language": "python",
   "name": "python3"
  },
  "language_info": {
   "codemirror_mode": {
    "name": "ipython",
    "version": 3
   },
   "file_extension": ".py",
   "mimetype": "text/x-python",
   "name": "python",
   "nbconvert_exporter": "python",
   "pygments_lexer": "ipython3",
   "version": "3.7.6"
  }
 },
 "nbformat": 4,
 "nbformat_minor": 4
}
