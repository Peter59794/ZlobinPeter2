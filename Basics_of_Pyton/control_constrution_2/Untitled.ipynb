{
 "cells": [
  {
   "cell_type": "markdown",
   "metadata": {},
   "source": [
    "Задание 1. Дан список с визитами по городам и странам. Напишите код, который возвращает отфильтрованный список geo_logs, содержащий только визиты из России."
   ]
  },
  {
   "cell_type": "code",
   "execution_count": 72,
   "metadata": {},
   "outputs": [
    {
     "name": "stdout",
     "output_type": "stream",
     "text": [
      "[{'visit1': ['Москва', 'Россия']},\n",
      " {'visit3': ['Владимир', 'Россия']},\n",
      " {'visit7': ['Тула', 'Россия']},\n",
      " {'visit8': ['Тула', 'Россия']},\n",
      " {'visit9': ['Курск', 'Россия']},\n",
      " {'visit10': ['Архангельск', 'Россия']}]\n"
     ]
    }
   ],
   "source": [
    "geo_logs = [\n",
    "    {'visit1': ['Москва', 'Россия']},\n",
    "    {'visit2': ['Дели', 'Индия']},\n",
    "    {'visit3': ['Владимир', 'Россия']},\n",
    "    {'visit4': ['Лиссабон', 'Португалия']},\n",
    "    {'visit5': ['Париж', 'Франция']},\n",
    "    {'visit6': ['Лиссабон', 'Португалия']},\n",
    "    {'visit7': ['Тула', 'Россия']},\n",
    "    {'visit8': ['Тула', 'Россия']},\n",
    "    {'visit9': ['Курск', 'Россия']},\n",
    "    {'visit10': ['Архангельск', 'Россия']}\n",
    "]\n",
    "\n",
    "import copy\n",
    "from pprint import pprint\n",
    "\n",
    "geo_copy = copy.copy(geo_logs)\n",
    "\n",
    "# pprint (geo_copy)\n",
    "\n",
    "list_Russia = []\n",
    "\n",
    "for lines in geo_copy:\n",
    "    for visits,cityes in lines.items():\n",
    "        if 'Россия' in cityes:\n",
    "            list_Russia.append(lines)\n",
    "pprint (list_Russia)\n",
    "#         pprint (visits, ':', cityes['Россия'])\n",
    "\n"
   ]
  },
  {
   "cell_type": "markdown",
   "metadata": {},
   "source": [
    "Задание 2. Выведите на экран все уникальные гео-ID из значений словаря ids. Т. е. список вида [213, 15, 54, 119, 98, 35]"
   ]
  },
  {
   "cell_type": "code",
   "execution_count": 122,
   "metadata": {},
   "outputs": [
    {
     "name": "stdout",
     "output_type": "stream",
     "text": [
      "Список к заданию: [98, 35, 15, 213, 54, 119]\n"
     ]
    }
   ],
   "source": [
    "ids = {'user1': [213, 213, 213, 15, 213], \n",
    "       'user2': [54, 54, 119, 119, 119], \n",
    "       'user3': [213, 98, 98, 35]}\n",
    "\n",
    "list_sum = []\n",
    "num_list = []\n",
    "\n",
    "for lines in ids.values(): #Создние списка из значение\n",
    "    list_sum.append(lines)\n",
    "for sum_num in list_sum:\n",
    "#      pprint(sum_num)\n",
    "    for num in sum_num:     # Выборка элементов и формирование нового списка\n",
    "        num_list.append(num)\n",
    "x = list(set(num_list))\n",
    "\n",
    "print ('Список к заданию:', x)"
   ]
  },
  {
   "cell_type": "markdown",
   "metadata": {},
   "source": [
    "Задание 3. Дан список поисковых запросов. Получить распределение количества слов в них. Т. е. поисковых запросов из одного - слова 5%, из двух - 7%, из трех - 3% и т.д."
   ]
  },
  {
   "cell_type": "code",
   "execution_count": 207,
   "metadata": {},
   "outputs": [
    {
     "name": "stdout",
     "output_type": "stream",
     "text": [
      "Всего количество уникальных запрососов \"по количеству слов\": 3\n",
      "Сумма слов для различных запросов: 3 2 4\n",
      "\n",
      "\n",
      "Итоговое решение представленное в формате - (\"Количество слов, Процентное соотношение от общего числа (%)\"):\n",
      "(3, 42.9) (2, 42.9) (4, 14.3)\n"
     ]
    }
   ],
   "source": [
    "queries = [\n",
    "    'смотреть сериалы онлайн',\n",
    "    'новости спорта',\n",
    "    'афиша кино',\n",
    "    'курс доллара',\n",
    "    'сериалы этим летом',\n",
    "    'курс по питону',\n",
    "    'про спорт и отдых',\n",
    "]\n",
    "\n",
    "from pprint import pprint\n",
    "len_s_list = []\n",
    "len_ss = []\n",
    "count_base = []\n",
    "\n",
    "for queries_f in queries:\n",
    "    len_x = len (queries)           #Сколько всего запросов\n",
    "    splitt = queries_f.split()\n",
    "    len_s = len(splitt)             #Определение количества слов в одной переменной \n",
    "    len_ss.append(len_s)\n",
    "    if len_s not in len_s_list:\n",
    "        len_s_list.append(len_s)    # Создание списка для неповторяющихся количеств\n",
    "\n",
    "        \n",
    "# print (len_ss)                      #Количество слов в каждом запросе       \n",
    "# print (len_s_list)                  #Количество уникальных запросов (по количество слов в них)\n",
    "\n",
    "\n",
    "lenoflenss = len(len_ss)              #Количество запросов\n",
    "len_of_len_s_list = len (len_s_list)   #Количество уникальных запросов вообще (\"3?\") \n",
    "Procent_list = []\n",
    "\n",
    "for somenumber in len_s_list:\n",
    "    q = len_ss.count(somenumber)\n",
    "    Procent_list.append(q)\n",
    "# print(Procent_list)                  #Определили сумарное количестыо запросов \"для каждого варианта запроса с его количеством слов\"\n",
    "\n",
    "\n",
    "result_list = []\n",
    "for x in Procent_list:\n",
    "    find_x = (x / lenoflenss)*100\n",
    "    result_list.append(round(find_x,1))\n",
    "    \n",
    "t = list(zip(len_s_list, result_list))   #Группировка по формату \"Количество слов, Процентное соотношение от общего числа (%)\"\n",
    "\n",
    "# print ((result_list) ,sep='')         #Уникальные запросы \n",
    "\n",
    "print ('Всего количество уникальных запрососов \"по количеству слов\":', len_of_len_s_list)\n",
    "print ('Сумма слов для различных запросов:', *len_s_list)\n",
    "print()\n",
    "# for i in len_s_list:\n",
    "#     print ('Процентное соотношение от общего числа слов для количества слов:', i, '=', [b for b in result_list])\n",
    "print()\n",
    "print('Итоговое решение представленное в формате - (\"Количество слов, Процентное соотношение от общего числа (%)\"):')\n",
    "print(*t)"
   ]
  },
  {
   "cell_type": "markdown",
   "metadata": {},
   "source": [
    "Задание 4. Дана статистика рекламных каналов по объемам продаж. Напишите скрипт, который возвращает название канала с максимальным объемом. Т. е. в данном примере скрипт должен возвращать 'yandex'."
   ]
  },
  {
   "cell_type": "code",
   "execution_count": 228,
   "metadata": {},
   "outputs": [
    {
     "name": "stdout",
     "output_type": "stream",
     "text": [
      "yandex\n"
     ]
    }
   ],
   "source": [
    "stats = {'facebook': 55, 'yandex': 120, 'vk': 115, 'google': 99, 'email': 42, 'ok': 98}\n",
    "\n",
    "a = []\n",
    "\n",
    "for x,y in stats.items():\n",
    "    a.append(y)\n",
    "m = max(a)\n",
    "\n",
    "for x,y in stats.items():\n",
    "    if y == m:\n",
    "        print(x)                       # Да, не в одну строку и не самый красивый код... ну, научился работать с выносом списка, так и делаю, хотя полагаю, что в одну строку можно сделать...."
   ]
  },
  {
   "cell_type": "markdown",
   "metadata": {},
   "source": [
    "Задание 5. Напишите код для преобразования произвольного списка вида ['2018-01-01', 'yandex', 'cpc', 100] (он может быть любой длины) в словарь {'2018-01-01': {'yandex': {'cpc': 100}}}"
   ]
  },
  {
   "cell_type": "code",
   "execution_count": 117,
   "metadata": {},
   "outputs": [
    {
     "data": {
      "text/plain": [
       "{'2018-01-01': {'yandex': {'cpc': 100}}}"
      ]
     },
     "execution_count": 117,
     "metadata": {},
     "output_type": "execute_result"
    }
   ],
   "source": [
    "some_list = ['2018-01-01', 'yandex', 'cpc', 100]\n",
    "                                                    # Я подсмотрел это решение,  но разобрадся в каждй строчке кода. У меня было два варианта решения. Первый через итерацию остатока всех значений словаря, первое из которых должно становиться ключём. Второй представлен в этом варианте; создавать словарь из последних двух элементов и потом введя его в переменую, ставить на место значения(value).\n",
    "def for_dict_in_dict(some_list):                  # (Функция)(Её наименование)(аргумент для исполения функции)\n",
    "\n",
    "    result = some_list[-1]                        #Переменная result всем элементам нашего списка some_list за исключением последнего\n",
    "    for s in reversed(some_list[:-1]):           #Для каждого нашего значения в списке (s) для развёрутного (reversed) задом-напердёд списка\n",
    "        d = {j: result}                     #d который стал \"срс\", так как он же s для первой итерации\n",
    "    return d                                #return возвращает d; мы говорим ему создай словарь (d), ключом которого будет являться первый развёрнутый эллемент списка и значением последний элемент основного списка который мы прописали ранее[-1]. При последующей итерации мы берём только что созднаный словарь в значение так как является последним элементом списка\n",
    "                                                #Мы берём (все эллементы за исключением последнего), разворачиваем их и назначначаем первый элемент(по факту предпоследний) ключом для нового списка \n",
    "dict_from_list_reversed_slice(some_list) #Подсмотреть и применить это хороший вариант для обучения, важно чтобы в следующий раз сделал это самостоятельно."
   ]
  },
  {
   "cell_type": "code",
   "execution_count": null,
   "metadata": {},
   "outputs": [],
   "source": []
  }
 ],
 "metadata": {
  "kernelspec": {
   "display_name": "Python 3",
   "language": "python",
   "name": "python3"
  },
  "language_info": {
   "codemirror_mode": {
    "name": "ipython",
    "version": 3
   },
   "file_extension": ".py",
   "mimetype": "text/x-python",
   "name": "python",
   "nbconvert_exporter": "python",
   "pygments_lexer": "ipython3",
   "version": "3.7.6"
  }
 },
 "nbformat": 4,
 "nbformat_minor": 4
}
