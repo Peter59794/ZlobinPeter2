{
 "cells": [
  {
   "cell_type": "markdown",
   "metadata": {},
   "source": [
    "Задача 1"
   ]
  },
  {
   "cell_type": "code",
   "execution_count": 24,
   "metadata": {},
   "outputs": [
    {
     "data": {
      "text/plain": [
       "False"
      ]
     },
     "execution_count": 24,
     "metadata": {},
     "output_type": "execute_result"
    }
   ],
   "source": [
    "long_phrase = 'Насколько проще было бы писать программы, если бы не заказчики'\n",
    "short_phrase = '640Кб должно хватить для любых задач. Билл Гейтс (по легенде)'\n",
    "len ('long_pharse') > len ('short_phrase')"
   ]
  },
  {
   "cell_type": "markdown",
   "metadata": {},
   "source": [
    "Задача 2"
   ]
  },
  {
   "cell_type": "code",
   "execution_count": 9,
   "metadata": {},
   "outputs": [
    {
     "name": "stdout",
     "output_type": "stream",
     "text": [
      "\n",
      "Дано: 645 947 байт данных. Переведите значение в мегабайты, если 1 мегабайт = 2^20 байта\n",
      "\n",
      "Ответ: это 61.6023063659668 мегабайт данных\n"
     ]
    }
   ],
   "source": [
    "print ('')\n",
    "print ('Дано: 645 947 байт данных. Переведите значение в мегабайты, если 1 мегабайт = 2^20 байта')\n",
    "z = 645947\n",
    "q = (2**20)\n",
    "if z <= q:\n",
    "    x = 100/(q/z)\n",
    "print ('')\n",
    "print ('Ответ: это', x, 'мегабайт данных') \n",
    "#по факту if не нужен тут, при всех остальных условиях тоже будет работать."
   ]
  },
  {
   "cell_type": "markdown",
   "metadata": {},
   "source": []
  },
  {
   "cell_type": "code",
   "execution_count": 15,
   "metadata": {},
   "outputs": [
    {
     "name": "stdout",
     "output_type": "stream",
     "text": [
      "Определение вашего знака зодика\n",
      "\n",
      "Введите поочерёдно дату своего рождения, число, месяц с маленькой буквы, в именительном падеже\n",
      "Ввведите дату вашего рождения, число 25\n",
      "Ввведите месяц вашего рождения октябрь\n",
      "\n",
      "Скорпион\n"
     ]
    }
   ],
   "source": [
    "print ('Определение вашего знака зодика')\n",
    "print ('')\n",
    "print ('Введите поочерёдно дату своего рождения, число, месяц с маленькой буквы, в именительном падеже')\n",
    "\n",
    "x = int (input ('Ввведите дату вашего рождения, число '))\n",
    "y = str (input ('Ввведите месяц вашего рождения '))\n",
    "\n",
    "if y == 'январь' and 21 <= x <= 31 or y == 'февраль' and 1 <= x <= 19: \n",
    "#Везде стоит по 31 число, чтобы не заморачиваться с календарём, расчивая на разумность пользователя\n",
    "    print ('')\n",
    "    print ('Водолей')\n",
    "elif y == 'март' and 20 <= x <= 31 or y == 'февраль' and 1 <= x <= 20:\n",
    "    print ('')\n",
    "    print ('Рыбы')\n",
    "elif y == 'март' and 21 <= x <= 31 or y == 'апрель' and 1 <= x <= 20:\n",
    "    print ('')\n",
    "    print ('Овен')\n",
    "elif y == 'апрель' and 21 <= x <= 31 or y == 'май' and 1 <= x <= 21:\n",
    "    print ('')\n",
    "    print ('Телец')\n",
    "elif y == 'май' and 22 <= x <= 31 or y == 'июнь' and 1 <= x <= 21:\n",
    "    print ('')\n",
    "    print ('Близнецы ')\n",
    "elif y == 'июнь' and 22 <= x <= 31 or y == 'июль' and 1 <= x <= 22:\n",
    "    print ('')\n",
    "    print ('Рак')\n",
    "elif y == 'июль' and 23 <= x <= 31 or y == 'август' and 1 <= x <= 21:\n",
    "    print ('')\n",
    "    print ('Лев')\n",
    "elif y == 'август' and 22 <= x <= 31 or y == 'сентбрь' and 1 <= x <= 23:\n",
    "    print ('')\n",
    "    print ('Дева')\n",
    "elif y == 'сентябрь' and 24 <= x <= 31 or y == 'октябрь' and 1 <= x <= 23:\n",
    "    print ('')\n",
    "    print ('Весы')\n",
    "elif y == 'октябрь' and 24 <= x <= 31 or y == 'ноябрь' and 1 <= x <= 22:\n",
    "    print ('')\n",
    "    print ('Скорпион')\n",
    "elif y == 'ноябрь' and 23 <= x <= 31 or y == 'декабрь' and 1 <= x <= 22:\n",
    "    print ('')\n",
    "    print ('Стрелец')\n",
    "elif y == 'декабрь' and 23 <= x <= 31 or y == 'январь' and 1 <= x <= 20:\n",
    "    print ('')\n",
    "    print ('Козерог')\n",
    "else:\n",
    "    print ('код не верный') "
   ]
  },
  {
   "cell_type": "code",
   "execution_count": 8,
   "metadata": {},
   "outputs": [
    {
     "name": "stdout",
     "output_type": "stream",
     "text": [
      "Приложение для вашего финансового планирования\n",
      "Введите заработную плату в месяц 1000\n",
      "Введите сколько процентов уходит на ипотеку 30\n",
      "Введите сколько процентов уходит \"на жизнь\" 50\n",
      "Введите количество премий за год 2\n",
      "\n",
      "На пенсию остаётся в месяц:    33.33333333333337   за год:    400.00000000000045\n",
      "\n",
      "за год будет накоплено    12000.0\n",
      "\n",
      "На ипотеку за год было потрачено: 3600.0\n"
     ]
    }
   ],
   "source": [
    "print ('Приложение для вашего финансового планирования')\n",
    "\n",
    "zarplata = int (input ('Введите заработную плату в месяц '))\n",
    "ipoteka = int (input ('Введите сколько процентов уходит на ипотеку '))\n",
    "nazhizn = int (input ('Введите сколько процентов уходит \"на жизнь\" '))\n",
    "premiazagod = int (input ('Введите количество премий за год '))\n",
    "\n",
    "naotpusk = (zarplata/2) * premiazagod \n",
    "#отпуск я пониманию так, что это именно та половина которая идёт (входит в раздел) \"на жизнь\"\n",
    "otkladsprem = (zarplata/2) * premiazagod #откладываем\n",
    "pc = (zarplata/100) * ipoteka # процент за ипотеку в \"рублях (у.е.)\n",
    "pl = (zarplata / 100) * nazhizn + (naotpusk / 12) * premiazagod # процент от зарплаты \"на жизнь\" в \"рублях (у.е.)\"\n",
    "\n",
    "napensiu = zarplata  - pc - pl\n",
    "\n",
    "print ('')\n",
    "print ('На пенсию остаётся в месяц:   ', napensiu, '  за год:   ', napensiu * 12)\n",
    "print ('')\n",
    "print ('за год будет накоплено   ', otkladsprem * 12)\n",
    "print ('')\n",
    "print ('На ипотеку за год было потрачено:', pc * 12)"
   ]
  },
  {
   "cell_type": "code",
   "execution_count": null,
   "metadata": {},
   "outputs": [],
   "source": []
  }
 ],
 "metadata": {
  "kernelspec": {
   "display_name": "Python 3",
   "language": "python",
   "name": "python3"
  },
  "language_info": {
   "codemirror_mode": {
    "name": "ipython",
    "version": 3
   },
   "file_extension": ".py",
   "mimetype": "text/x-python",
   "name": "python",
   "nbconvert_exporter": "python",
   "pygments_lexer": "ipython3",
   "version": "3.7.6"
  }
 },
 "nbformat": 4,
 "nbformat_minor": 4
}
